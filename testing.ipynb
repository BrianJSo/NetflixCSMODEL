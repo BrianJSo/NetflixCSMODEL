{
 "cells": [
  {
   "cell_type": "code",
   "execution_count": 139,
   "metadata": {
    "tags": []
   },
   "outputs": [
    {
     "name": "stdout",
     "output_type": "stream",
     "text": [
      "Hello World\n"
     ]
    }
   ],
   "source": [
    "import numpy as np\n",
    "import pandas as pd\n",
    "import matplotlib.pyplot as plt\n",
    "from rule_miner import RuleMiner\n",
    "\n",
    "print(\"Hello World\")"
   ]
  },
  {
   "cell_type": "code",
   "execution_count": 140,
   "metadata": {
    "tags": []
   },
   "outputs": [
    {
     "data": {
      "text/html": [
       "<div>\n",
       "<style scoped>\n",
       "    .dataframe tbody tr th:only-of-type {\n",
       "        vertical-align: middle;\n",
       "    }\n",
       "\n",
       "    .dataframe tbody tr th {\n",
       "        vertical-align: top;\n",
       "    }\n",
       "\n",
       "    .dataframe thead th {\n",
       "        text-align: right;\n",
       "    }\n",
       "</style>\n",
       "<table border=\"1\" class=\"dataframe\">\n",
       "  <thead>\n",
       "    <tr style=\"text-align: right;\">\n",
       "      <th></th>\n",
       "      <th>0</th>\n",
       "      <th>1</th>\n",
       "      <th>2</th>\n",
       "    </tr>\n",
       "  </thead>\n",
       "  <tbody>\n",
       "    <tr>\n",
       "      <th>0</th>\n",
       "      <td>Children &amp; Family Movies</td>\n",
       "      <td>Comedies</td>\n",
       "      <td>None</td>\n",
       "    </tr>\n",
       "    <tr>\n",
       "      <th>1</th>\n",
       "      <td>Stand-Up Comedy</td>\n",
       "      <td>None</td>\n",
       "      <td>None</td>\n",
       "    </tr>\n",
       "    <tr>\n",
       "      <th>2</th>\n",
       "      <td>Kids' TV</td>\n",
       "      <td>None</td>\n",
       "      <td>None</td>\n",
       "    </tr>\n",
       "    <tr>\n",
       "      <th>3</th>\n",
       "      <td>Kids' TV</td>\n",
       "      <td>None</td>\n",
       "      <td>None</td>\n",
       "    </tr>\n",
       "    <tr>\n",
       "      <th>4</th>\n",
       "      <td>Comedies</td>\n",
       "      <td>None</td>\n",
       "      <td>None</td>\n",
       "    </tr>\n",
       "    <tr>\n",
       "      <th>...</th>\n",
       "      <td>...</td>\n",
       "      <td>...</td>\n",
       "      <td>...</td>\n",
       "    </tr>\n",
       "    <tr>\n",
       "      <th>6229</th>\n",
       "      <td>TV Action &amp; Adventure</td>\n",
       "      <td>TV Comedies</td>\n",
       "      <td>TV Sci-Fi &amp; Fantasy</td>\n",
       "    </tr>\n",
       "    <tr>\n",
       "      <th>6230</th>\n",
       "      <td>TV Comedies</td>\n",
       "      <td>None</td>\n",
       "      <td>None</td>\n",
       "    </tr>\n",
       "    <tr>\n",
       "      <th>6231</th>\n",
       "      <td>Movies</td>\n",
       "      <td>None</td>\n",
       "      <td>None</td>\n",
       "    </tr>\n",
       "    <tr>\n",
       "      <th>6232</th>\n",
       "      <td>British TV Shows</td>\n",
       "      <td>TV Comedies</td>\n",
       "      <td>TV Dramas</td>\n",
       "    </tr>\n",
       "    <tr>\n",
       "      <th>6233</th>\n",
       "      <td>Classic &amp; Cult TV</td>\n",
       "      <td>TV Comedies</td>\n",
       "      <td>None</td>\n",
       "    </tr>\n",
       "  </tbody>\n",
       "</table>\n",
       "<p>6234 rows × 3 columns</p>\n",
       "</div>"
      ],
      "text/plain": [
       "                             0            1                    2\n",
       "0     Children & Family Movies     Comedies                 None\n",
       "1              Stand-Up Comedy         None                 None\n",
       "2                     Kids' TV         None                 None\n",
       "3                     Kids' TV         None                 None\n",
       "4                     Comedies         None                 None\n",
       "...                        ...          ...                  ...\n",
       "6229     TV Action & Adventure  TV Comedies  TV Sci-Fi & Fantasy\n",
       "6230               TV Comedies         None                 None\n",
       "6231                    Movies         None                 None\n",
       "6232          British TV Shows  TV Comedies            TV Dramas\n",
       "6233         Classic & Cult TV  TV Comedies                 None\n",
       "\n",
       "[6234 rows x 3 columns]"
      ]
     },
     "execution_count": 140,
     "metadata": {},
     "output_type": "execute_result"
    }
   ],
   "source": [
    "temp_df = pd.read_csv(\"netflix_titles.csv\")\n",
    "\n",
    "listed_in_series = temp_df['listed_in']\n",
    "genre_matrix = []\n",
    "\n",
    "for string in listed_in_series:\n",
    "    split_str = string.split(', ')\n",
    "    genre_matrix.append(split_str)\n",
    "\n",
    "genre_df = pd.DataFrame(genre_matrix)\n",
    "genre_df"
   ]
  },
  {
   "cell_type": "code",
   "execution_count": 141,
   "metadata": {
    "tags": []
   },
   "outputs": [
    {
     "name": "stdout",
     "output_type": "stream",
     "text": [
      "{'Children & Family Movies': 0, 'Comedies': 1, 'Stand-Up Comedy': 2, \"Kids' TV\": 3, 'Crime TV Shows': 4, 'International TV Shows': 5, 'Spanish-Language TV Shows': 6, 'International Movies': 7, 'Sci-Fi & Fantasy': 8, 'Thrillers': 9, 'Docuseries': 10, 'Science & Nature TV': 11, 'Action & Adventure': 12, 'Dramas': 13, 'Cult Movies': 14, 'Independent Movies': 15, 'Romantic Movies': 16, 'Documentaries': 17, 'Horror Movies': 18, 'Romantic TV Shows': 19, 'TV Comedies': 20, 'TV Dramas': 21, 'TV Thrillers': 22, 'TV Mysteries': 23, 'British TV Shows': 24, 'Music & Musicals': 25, 'Reality TV': 26, 'TV Action & Adventure': 27, 'Anime Features': 28, 'Teen TV Shows': 29, 'Faith & Spirituality': 30, 'Korean TV Shows': 31, 'Anime Series': 32, 'LGBTQ Movies': 33, 'TV Horror': 34, 'Movies': 35, 'Stand-Up Comedy & Talk Shows': 36, 'TV Sci-Fi & Fantasy': 37, 'Classic Movies': 38, 'Sports Movies': 39, 'TV Shows': 40, 'Classic & Cult TV': 41}\n"
     ]
    }
   ],
   "source": [
    "# temp_df = pd.read_csv(\"groceries.csv\", header=None)\n",
    "# temp_df\n",
    "\n",
    "values = genre_df.values.ravel()\n",
    "values = [value for value in pd.unique(values) if not pd.isnull(value)]\n",
    "\n",
    "value_dict = {}\n",
    "for i, value in enumerate(values):\n",
    "    value_dict[value] = i\n",
    "    \n",
    "print(value_dict)"
   ]
  },
  {
   "cell_type": "code",
   "execution_count": null,
   "metadata": {},
   "outputs": [],
   "source": []
  }
 ],
 "metadata": {
  "kernelspec": {
   "display_name": "Python 3",
   "language": "python",
   "name": "python3"
  },
  "language_info": {
   "codemirror_mode": {
    "name": "ipython",
    "version": 3
   },
   "file_extension": ".py",
   "mimetype": "text/x-python",
   "name": "python",
   "nbconvert_exporter": "python",
   "pygments_lexer": "ipython3",
   "version": "3.7.6"
  }
 },
 "nbformat": 4,
 "nbformat_minor": 2
}
